{
 "cells": [
  {
   "cell_type": "code",
   "execution_count": 81,
   "metadata": {},
   "outputs": [],
   "source": [
    "import pandas as pd\n",
    "import numpy as np\n",
    "\n",
    "pd.set_option('display.max_columns', 500)\n",
    "pd.set_option('display.max_rows', 20)"
   ]
  },
  {
   "cell_type": "code",
   "execution_count": 82,
   "metadata": {},
   "outputs": [],
   "source": [
    "terry_stops = pd.read_csv('./Terry_Stops.csv')\n"
   ]
  },
  {
   "cell_type": "code",
   "execution_count": 83,
   "metadata": {},
   "outputs": [
    {
     "output_type": "execute_result",
     "data": {
      "text/plain": "  Subject Age Group  Subject ID     GO / SC Num  Terry Stop ID  \\\n0                 -          -1  20140000120677          92317   \n1                 -          -1  20150000001463          28806   \n2                 -          -1  20150000001516          29599   \n3                 -          -1  20150000001670          32260   \n4                 -          -1  20150000001739          33155   \n\n  Stop Resolution Weapon Type Officer ID  Officer YOB Officer Gender  \\\n0          Arrest        None     7500           1984              M   \n1   Field Contact        None     5670           1965              M   \n2   Field Contact        None     4844           1961              M   \n3   Field Contact        None     7539           1963              M   \n4   Field Contact        None     6973           1977              M   \n\n                Officer Race     Subject Perceived Race  \\\n0  Black or African American                      Asian   \n1                      White                          -   \n2                      White                      White   \n3                      White                          -   \n4                      White  Black or African American   \n\n  Subject Perceived Gender        Reported Date Reported Time  \\\n0                     Male  2015-10-16T00:00:00      11:32:00   \n1                        -  2015-03-19T00:00:00      07:59:00   \n2                     Male  2015-03-21T00:00:00      19:12:00   \n3                        -  2015-04-01T00:00:00      04:55:00   \n4                     Male  2015-04-03T00:00:00      00:41:00   \n\n  Initial Call Type Final Call Type Call Type             Officer Squad  \\\n0                 -               -         -  SOUTH PCT 1ST W - ROBERT   \n1                 -               -         -                       NaN   \n2                 -               -         -                       NaN   \n3                 -               -         -                       NaN   \n4                 -               -         -                       NaN   \n\n  Arrest Flag Frisk Flag Precinct  Sector    Beat  \n0           N          N    South  O       O2      \n1           N          N        -       -       -  \n2           N          -        -       -       -  \n3           N          N        -       -       -  \n4           N          N        -       -       -  ",
      "text/html": "<div>\n<style scoped>\n    .dataframe tbody tr th:only-of-type {\n        vertical-align: middle;\n    }\n\n    .dataframe tbody tr th {\n        vertical-align: top;\n    }\n\n    .dataframe thead th {\n        text-align: right;\n    }\n</style>\n<table border=\"1\" class=\"dataframe\">\n  <thead>\n    <tr style=\"text-align: right;\">\n      <th></th>\n      <th>Subject Age Group</th>\n      <th>Subject ID</th>\n      <th>GO / SC Num</th>\n      <th>Terry Stop ID</th>\n      <th>Stop Resolution</th>\n      <th>Weapon Type</th>\n      <th>Officer ID</th>\n      <th>Officer YOB</th>\n      <th>Officer Gender</th>\n      <th>Officer Race</th>\n      <th>Subject Perceived Race</th>\n      <th>Subject Perceived Gender</th>\n      <th>Reported Date</th>\n      <th>Reported Time</th>\n      <th>Initial Call Type</th>\n      <th>Final Call Type</th>\n      <th>Call Type</th>\n      <th>Officer Squad</th>\n      <th>Arrest Flag</th>\n      <th>Frisk Flag</th>\n      <th>Precinct</th>\n      <th>Sector</th>\n      <th>Beat</th>\n    </tr>\n  </thead>\n  <tbody>\n    <tr>\n      <td>0</td>\n      <td>-</td>\n      <td>-1</td>\n      <td>20140000120677</td>\n      <td>92317</td>\n      <td>Arrest</td>\n      <td>None</td>\n      <td>7500</td>\n      <td>1984</td>\n      <td>M</td>\n      <td>Black or African American</td>\n      <td>Asian</td>\n      <td>Male</td>\n      <td>2015-10-16T00:00:00</td>\n      <td>11:32:00</td>\n      <td>-</td>\n      <td>-</td>\n      <td>-</td>\n      <td>SOUTH PCT 1ST W - ROBERT</td>\n      <td>N</td>\n      <td>N</td>\n      <td>South</td>\n      <td>O</td>\n      <td>O2</td>\n    </tr>\n    <tr>\n      <td>1</td>\n      <td>-</td>\n      <td>-1</td>\n      <td>20150000001463</td>\n      <td>28806</td>\n      <td>Field Contact</td>\n      <td>None</td>\n      <td>5670</td>\n      <td>1965</td>\n      <td>M</td>\n      <td>White</td>\n      <td>-</td>\n      <td>-</td>\n      <td>2015-03-19T00:00:00</td>\n      <td>07:59:00</td>\n      <td>-</td>\n      <td>-</td>\n      <td>-</td>\n      <td>NaN</td>\n      <td>N</td>\n      <td>N</td>\n      <td>-</td>\n      <td>-</td>\n      <td>-</td>\n    </tr>\n    <tr>\n      <td>2</td>\n      <td>-</td>\n      <td>-1</td>\n      <td>20150000001516</td>\n      <td>29599</td>\n      <td>Field Contact</td>\n      <td>None</td>\n      <td>4844</td>\n      <td>1961</td>\n      <td>M</td>\n      <td>White</td>\n      <td>White</td>\n      <td>Male</td>\n      <td>2015-03-21T00:00:00</td>\n      <td>19:12:00</td>\n      <td>-</td>\n      <td>-</td>\n      <td>-</td>\n      <td>NaN</td>\n      <td>N</td>\n      <td>-</td>\n      <td>-</td>\n      <td>-</td>\n      <td>-</td>\n    </tr>\n    <tr>\n      <td>3</td>\n      <td>-</td>\n      <td>-1</td>\n      <td>20150000001670</td>\n      <td>32260</td>\n      <td>Field Contact</td>\n      <td>None</td>\n      <td>7539</td>\n      <td>1963</td>\n      <td>M</td>\n      <td>White</td>\n      <td>-</td>\n      <td>-</td>\n      <td>2015-04-01T00:00:00</td>\n      <td>04:55:00</td>\n      <td>-</td>\n      <td>-</td>\n      <td>-</td>\n      <td>NaN</td>\n      <td>N</td>\n      <td>N</td>\n      <td>-</td>\n      <td>-</td>\n      <td>-</td>\n    </tr>\n    <tr>\n      <td>4</td>\n      <td>-</td>\n      <td>-1</td>\n      <td>20150000001739</td>\n      <td>33155</td>\n      <td>Field Contact</td>\n      <td>None</td>\n      <td>6973</td>\n      <td>1977</td>\n      <td>M</td>\n      <td>White</td>\n      <td>Black or African American</td>\n      <td>Male</td>\n      <td>2015-04-03T00:00:00</td>\n      <td>00:41:00</td>\n      <td>-</td>\n      <td>-</td>\n      <td>-</td>\n      <td>NaN</td>\n      <td>N</td>\n      <td>N</td>\n      <td>-</td>\n      <td>-</td>\n      <td>-</td>\n    </tr>\n  </tbody>\n</table>\n</div>"
     },
     "metadata": {},
     "execution_count": 83
    }
   ],
   "source": [
    "terry_stops.head()"
   ]
  },
  {
   "cell_type": "code",
   "execution_count": 84,
   "metadata": {},
   "outputs": [
    {
     "output_type": "execute_result",
     "data": {
      "text/plain": "(43496, 23)"
     },
     "metadata": {},
     "execution_count": 84
    }
   ],
   "source": [
    "terry_stops.shape"
   ]
  },
  {
   "cell_type": "code",
   "execution_count": 85,
   "metadata": {},
   "outputs": [
    {
     "output_type": "execute_result",
     "data": {
      "text/plain": "911                              19166\n-                                12828\nONVIEW                            8205\nTELEPHONE OTHER, NOT 911          3017\nALARM CALL (NOT POLICE ALARM)      274\nTEXT MESSAGE                         3\nPROACTIVE (OFFICER INITIATED)        2\nSCHEDULED EVENT (RECURRING)          1\nName: Call Type, dtype: int64"
     },
     "metadata": {},
     "execution_count": 85
    }
   ],
   "source": [
    "terry_stops['Call Type'].value_counts()"
   ]
  },
  {
   "cell_type": "code",
   "execution_count": 86,
   "metadata": {},
   "outputs": [
    {
     "output_type": "execute_result",
     "data": {
      "text/plain": "26 - 35         14424\n36 - 45          9140\n18 - 25          8877\n46 - 55          5595\n56 and Above     2183\n1 - 17           1906\n-                1371\nName: Subject Age Group, dtype: int64"
     },
     "metadata": {},
     "execution_count": 86
    }
   ],
   "source": [
    "terry_stops['Subject Age Group'].value_counts()"
   ]
  },
  {
   "cell_type": "code",
   "execution_count": 95,
   "metadata": {},
   "outputs": [],
   "source": [
    "terry_stops['Arrested'] = np.where(terry_stops['Stop Resolution'] == 'Arrest', 1, 0)"
   ]
  },
  {
   "cell_type": "markdown",
   "metadata": {},
   "source": [
    "## Data Cleaning\n"
   ]
  },
  {
   "cell_type": "code",
   "execution_count": 88,
   "metadata": {},
   "outputs": [],
   "source": [
    "# Drop useless columns \n",
    "\n",
    "cols = ['Subject ID', 'Terry Stop ID', 'GO / SC Num', 'Officer ID', 'Stop Resolution']\n",
    "\n",
    "df = terry_stops.drop(columns=cols, axis=1)"
   ]
  },
  {
   "cell_type": "code",
   "execution_count": 89,
   "metadata": {},
   "outputs": [
    {
     "output_type": "execute_result",
     "data": {
      "text/plain": "  Subject Age Group Weapon Type  Officer YOB Officer Gender  \\\n0                 -        None         1984              M   \n1                 -        None         1965              M   \n2                 -        None         1961              M   \n3                 -        None         1963              M   \n4                 -        None         1977              M   \n\n                Officer Race     Subject Perceived Race  \\\n0  Black or African American                      Asian   \n1                      White                          -   \n2                      White                      White   \n3                      White                          -   \n4                      White  Black or African American   \n\n  Subject Perceived Gender        Reported Date Reported Time  \\\n0                     Male  2015-10-16T00:00:00      11:32:00   \n1                        -  2015-03-19T00:00:00      07:59:00   \n2                     Male  2015-03-21T00:00:00      19:12:00   \n3                        -  2015-04-01T00:00:00      04:55:00   \n4                     Male  2015-04-03T00:00:00      00:41:00   \n\n  Initial Call Type Final Call Type Call Type             Officer Squad  \\\n0                 -               -         -  SOUTH PCT 1ST W - ROBERT   \n1                 -               -         -                       NaN   \n2                 -               -         -                       NaN   \n3                 -               -         -                       NaN   \n4                 -               -         -                       NaN   \n\n  Arrest Flag Frisk Flag Precinct  Sector    Beat  Arrested  \n0           N          N    South  O       O2             1  \n1           N          N        -       -       -         0  \n2           N          -        -       -       -         0  \n3           N          N        -       -       -         0  \n4           N          N        -       -       -         0  ",
      "text/html": "<div>\n<style scoped>\n    .dataframe tbody tr th:only-of-type {\n        vertical-align: middle;\n    }\n\n    .dataframe tbody tr th {\n        vertical-align: top;\n    }\n\n    .dataframe thead th {\n        text-align: right;\n    }\n</style>\n<table border=\"1\" class=\"dataframe\">\n  <thead>\n    <tr style=\"text-align: right;\">\n      <th></th>\n      <th>Subject Age Group</th>\n      <th>Weapon Type</th>\n      <th>Officer YOB</th>\n      <th>Officer Gender</th>\n      <th>Officer Race</th>\n      <th>Subject Perceived Race</th>\n      <th>Subject Perceived Gender</th>\n      <th>Reported Date</th>\n      <th>Reported Time</th>\n      <th>Initial Call Type</th>\n      <th>Final Call Type</th>\n      <th>Call Type</th>\n      <th>Officer Squad</th>\n      <th>Arrest Flag</th>\n      <th>Frisk Flag</th>\n      <th>Precinct</th>\n      <th>Sector</th>\n      <th>Beat</th>\n      <th>Arrested</th>\n    </tr>\n  </thead>\n  <tbody>\n    <tr>\n      <td>0</td>\n      <td>-</td>\n      <td>None</td>\n      <td>1984</td>\n      <td>M</td>\n      <td>Black or African American</td>\n      <td>Asian</td>\n      <td>Male</td>\n      <td>2015-10-16T00:00:00</td>\n      <td>11:32:00</td>\n      <td>-</td>\n      <td>-</td>\n      <td>-</td>\n      <td>SOUTH PCT 1ST W - ROBERT</td>\n      <td>N</td>\n      <td>N</td>\n      <td>South</td>\n      <td>O</td>\n      <td>O2</td>\n      <td>1</td>\n    </tr>\n    <tr>\n      <td>1</td>\n      <td>-</td>\n      <td>None</td>\n      <td>1965</td>\n      <td>M</td>\n      <td>White</td>\n      <td>-</td>\n      <td>-</td>\n      <td>2015-03-19T00:00:00</td>\n      <td>07:59:00</td>\n      <td>-</td>\n      <td>-</td>\n      <td>-</td>\n      <td>NaN</td>\n      <td>N</td>\n      <td>N</td>\n      <td>-</td>\n      <td>-</td>\n      <td>-</td>\n      <td>0</td>\n    </tr>\n    <tr>\n      <td>2</td>\n      <td>-</td>\n      <td>None</td>\n      <td>1961</td>\n      <td>M</td>\n      <td>White</td>\n      <td>White</td>\n      <td>Male</td>\n      <td>2015-03-21T00:00:00</td>\n      <td>19:12:00</td>\n      <td>-</td>\n      <td>-</td>\n      <td>-</td>\n      <td>NaN</td>\n      <td>N</td>\n      <td>-</td>\n      <td>-</td>\n      <td>-</td>\n      <td>-</td>\n      <td>0</td>\n    </tr>\n    <tr>\n      <td>3</td>\n      <td>-</td>\n      <td>None</td>\n      <td>1963</td>\n      <td>M</td>\n      <td>White</td>\n      <td>-</td>\n      <td>-</td>\n      <td>2015-04-01T00:00:00</td>\n      <td>04:55:00</td>\n      <td>-</td>\n      <td>-</td>\n      <td>-</td>\n      <td>NaN</td>\n      <td>N</td>\n      <td>N</td>\n      <td>-</td>\n      <td>-</td>\n      <td>-</td>\n      <td>0</td>\n    </tr>\n    <tr>\n      <td>4</td>\n      <td>-</td>\n      <td>None</td>\n      <td>1977</td>\n      <td>M</td>\n      <td>White</td>\n      <td>Black or African American</td>\n      <td>Male</td>\n      <td>2015-04-03T00:00:00</td>\n      <td>00:41:00</td>\n      <td>-</td>\n      <td>-</td>\n      <td>-</td>\n      <td>NaN</td>\n      <td>N</td>\n      <td>N</td>\n      <td>-</td>\n      <td>-</td>\n      <td>-</td>\n      <td>0</td>\n    </tr>\n  </tbody>\n</table>\n</div>"
     },
     "metadata": {},
     "execution_count": 89
    }
   ],
   "source": [
    "df.head()"
   ]
  },
  {
   "cell_type": "code",
   "execution_count": 90,
   "metadata": {},
   "outputs": [],
   "source": [
    "# map true/false values\n",
    "\n",
    "df['Arrest Flag'] = np.where(df['Arrest Flag'] == 'Y', 1, 0)\n",
    "df['Frisk Flag'] = np.where(df['Frisk Flag'] == 'Y', 1, 0)"
   ]
  },
  {
   "cell_type": "code",
   "execution_count": 97,
   "metadata": {},
   "outputs": [],
   "source": [
    "X = df.drop('Arrested', axis=1)\n",
    "y = df.Arrested"
   ]
  },
  {
   "cell_type": "markdown",
   "metadata": {},
   "source": [
    "## Feature Engineering"
   ]
  },
  {
   "cell_type": "code",
   "execution_count": 91,
   "metadata": {},
   "outputs": [
    {
     "output_type": "execute_result",
     "data": {
      "text/plain": "Subject Age Group           object\nWeapon Type                 object\nOfficer YOB                  int64\nOfficer Gender              object\nOfficer Race                object\nSubject Perceived Race      object\nSubject Perceived Gender    object\nReported Date               object\nReported Time               object\nInitial Call Type           object\nFinal Call Type             object\nCall Type                   object\nOfficer Squad               object\nArrest Flag                  int64\nFrisk Flag                   int64\nPrecinct                    object\nSector                      object\nBeat                        object\nArrested                     int64\ndtype: object"
     },
     "metadata": {},
     "execution_count": 91
    }
   ],
   "source": [
    "df.dtypes"
   ]
  },
  {
   "cell_type": "code",
   "execution_count": 92,
   "metadata": {},
   "outputs": [],
   "source": [
    "df['Officer Age'] = pd.to_datetime(df['Reported Date']) - pd.to_datetime(df['Officer YOB'])"
   ]
  },
  {
   "cell_type": "code",
   "execution_count": 93,
   "metadata": {},
   "outputs": [],
   "source": [
    "# pd.get_dummies(pd['Office Race'], drop_first=True)\n",
    "\n",
    "df =  pd.get_dummies(df, columns=['Officer Race'], drop_first=True)\n",
    "df =  pd.get_dummies(df, columns=['Subject Perceived Race'], drop_first=True)\n",
    "df =  pd.get_dummies(df, columns=['Subject Perceived Gender'], drop_first=True)\n"
   ]
  },
  {
   "cell_type": "code",
   "execution_count": null,
   "metadata": {},
   "outputs": [],
   "source": []
  }
 ],
 "metadata": {
  "kernelspec": {
   "display_name": "Python 3.6.9 64-bit ('learn-env': conda)",
   "language": "python",
   "name": "python_defaultSpec_1597686643563"
  },
  "language_info": {
   "codemirror_mode": {
    "name": "ipython",
    "version": 3
   },
   "file_extension": ".py",
   "mimetype": "text/x-python",
   "name": "python",
   "nbconvert_exporter": "python",
   "pygments_lexer": "ipython3",
   "version": "3.6.9-final"
  }
 },
 "nbformat": 4,
 "nbformat_minor": 4
}